{
  "metadata": {
    "kernelspec": {
      "language": "python",
      "display_name": "Python 3",
      "name": "python3"
    },
    "language_info": {
      "name": "python",
      "version": "3.7.12",
      "mimetype": "text/x-python",
      "codemirror_mode": {
        "name": "ipython",
        "version": 3
      },
      "pygments_lexer": "ipython3",
      "nbconvert_exporter": "python",
      "file_extension": ".py"
    },
    "colab": {
      "name": "22nncolor.ipynb",
      "provenance": [],
      "collapsed_sections": []
    }
  },
  "nbformat_minor": 0,
  "nbformat": 4,
  "cells": [
    {
      "cell_type": "code",
      "source": [
        "import cv2\n",
        "import numpy as np \n",
        "import pandas as pd \n",
        "import os\n",
        "import random\n",
        "import shutil\n",
        "import matplotlib.pyplot as plt\n",
        "# image processing\n",
        "from tensorflow.keras.preprocessing.image import ImageDataGenerator\n",
        "#keras models\n",
        "from tensorflow.keras import layers ,models,optimizers\n",
        "from keras.layers import Dropout, Flatten, Dense\n",
        "from tensorflow.keras.utils import plot_model\n",
        "#resnet50\n",
        "from tensorflow.keras.applications import resnet50\n",
        "from tensorflow.keras.applications.imagenet_utils import preprocess_input \n",
        "#stop criteria\n",
        "from tensorflow.keras.callbacks import EarlyStopping\n",
        "#cnn_visualisation\n",
        "from keras.preprocessing import image\n"
      ],
      "metadata": {
        "execution": {
          "iopub.status.busy": "2022-07-31T04:24:30.352020Z",
          "iopub.execute_input": "2022-07-31T04:24:30.353373Z",
          "iopub.status.idle": "2022-07-31T04:24:35.447549Z",
          "shell.execute_reply.started": "2022-07-31T04:24:30.353250Z",
          "shell.execute_reply": "2022-07-31T04:24:35.446375Z"
        },
        "trusted": true,
        "id": "Z56_TD8RZIM1"
      },
      "execution_count": null,
      "outputs": []
    },
    {
      "cell_type": "markdown",
      "source": [
        "# moving to working directory"
      ],
      "metadata": {
        "id": "CYEKiW3IZIM3"
      }
    },
    {
      "cell_type": "code",
      "source": [
        "!cp -r /imgs/train ./\n"
      ],
      "metadata": {
        "execution": {
          "iopub.status.busy": "2022-07-31T04:24:35.449610Z",
          "iopub.execute_input": "2022-07-31T04:24:35.450334Z",
          "iopub.status.idle": "2022-07-31T04:27:29.641976Z",
          "shell.execute_reply.started": "2022-07-31T04:24:35.450294Z",
          "shell.execute_reply": "2022-07-31T04:27:29.640532Z"
        },
        "trusted": true,
        "id": "dAxDleTNZIM5"
      },
      "execution_count": null,
      "outputs": []
    },
    {
      "cell_type": "code",
      "source": [
        "train_dir = \"train/\"\n",
        "valid_dir =\"val/\"\n",
        "test_dir  = \"test/\" "
      ],
      "metadata": {
        "execution": {
          "iopub.status.busy": "2022-07-31T04:27:29.644427Z",
          "iopub.execute_input": "2022-07-31T04:27:29.645439Z",
          "iopub.status.idle": "2022-07-31T04:27:29.651193Z",
          "shell.execute_reply.started": "2022-07-31T04:27:29.645395Z",
          "shell.execute_reply": "2022-07-31T04:27:29.649685Z"
        },
        "trusted": true,
        "id": "vqyWqkOIZIM6"
      },
      "execution_count": null,
      "outputs": []
    },
    {
      "cell_type": "markdown",
      "source": [
        "# defining classes"
      ],
      "metadata": {
        "id": "WGNFLl3wZIM6"
      }
    },
    {
      "cell_type": "code",
      "source": [
        "activity = {   'c0' : \"safe_driving\",\n",
        "                      'c1' : \"texting-right\",\n",
        "                      'c2' : \"talking_on_the_phone-right\",\n",
        "                      'c3' : \"texting-left\",\n",
        "                      'c4' : \"talking_on_the_phone-left\",\n",
        "                      'c5' : \"operating_the_radio\",\n",
        "                      'c6' : \"drinking\",\n",
        "                      'c7' : \"reaching_behind\",\n",
        "                      'c8' : \"hair-and-makeup\",\n",
        "                      'c9' : \"talking_to_passenger\"}\n",
        "activity.keys()"
      ],
      "metadata": {
        "execution": {
          "iopub.status.busy": "2022-07-31T04:27:29.654314Z",
          "iopub.execute_input": "2022-07-31T04:27:29.655015Z",
          "iopub.status.idle": "2022-07-31T04:27:29.668457Z",
          "shell.execute_reply.started": "2022-07-31T04:27:29.654975Z",
          "shell.execute_reply": "2022-07-31T04:27:29.667349Z"
        },
        "trusted": true,
        "id": "siwaIRDbZIM6"
      },
      "execution_count": null,
      "outputs": []
    },
    {
      "cell_type": "markdown",
      "source": [
        "# prepare data\n",
        "**contact each image to its path and label it**"
      ],
      "metadata": {
        "id": "UoT32VXLZIM7"
      }
    },
    {
      "cell_type": "code",
      "source": [
        "for file in os.listdir(train_dir):\n",
        "    shutil.move(os.path.join(train_dir,file), os.path.join(train_dir,activity[f'{file}']))"
      ],
      "metadata": {
        "execution": {
          "iopub.status.busy": "2022-07-31T04:27:29.670272Z",
          "iopub.execute_input": "2022-07-31T04:27:29.671073Z",
          "iopub.status.idle": "2022-07-31T04:27:29.678215Z",
          "shell.execute_reply.started": "2022-07-31T04:27:29.671012Z",
          "shell.execute_reply": "2022-07-31T04:27:29.677298Z"
        },
        "trusted": true,
        "id": "fjym_2xZZIM7"
      },
      "execution_count": null,
      "outputs": []
    },
    {
      "cell_type": "code",
      "source": [
        "for file in os.listdir(train_dir):\n",
        "    os.makedirs(valid_dir + '/' + file, exist_ok=True)\n",
        "    os.makedirs(test_dir + '/' + file, exist_ok=True)    \n",
        "    train_dir_img = train_dir + file\n",
        "    file_len = len([sample for sample in os.listdir(train_dir_img)])\n",
        "    print(file_len)   # no of sampels for each class\n",
        "    \n",
        "    for sample in random.sample(os.listdir(train_dir_img) , int(float(0.1) * file_len)):\n",
        "        shutil.move(train_dir_img + '/' + sample, valid_dir + file)# Moving source to newly created destination \n",
        "    for sample in random.sample(os.listdir(train_dir_img) , int(float(0.1) * file_len)):\n",
        "        shutil.move(train_dir_img + '/' + sample, test_dir + file)"
      ],
      "metadata": {
        "execution": {
          "iopub.status.busy": "2022-07-31T04:27:29.679663Z",
          "iopub.execute_input": "2022-07-31T04:27:29.681328Z",
          "iopub.status.idle": "2022-07-31T04:27:29.910472Z",
          "shell.execute_reply.started": "2022-07-31T04:27:29.681291Z",
          "shell.execute_reply": "2022-07-31T04:27:29.909303Z"
        },
        "trusted": true,
        "id": "8Me3yKidZIM8"
      },
      "execution_count": null,
      "outputs": []
    },
    {
      "cell_type": "markdown",
      "source": [
        "# plot one image from each class"
      ],
      "metadata": {
        "id": "6422Gc-6ZIM9"
      }
    },
    {
      "cell_type": "code",
      "source": [
        "plt.figure(figsize = (12, 20))\n",
        "image_count = 1\n",
        "BASE_URL = '../input/state-farm-distracted-driver-detection/imgs/train/'\n",
        "for directory in os.listdir(BASE_URL):\n",
        "    if directory[0] != '.':\n",
        "        for i, file in enumerate(os.listdir(BASE_URL + directory)):\n",
        "            if i == 1:\n",
        "                break\n",
        "            else:\n",
        "                fig = plt.subplot(5, 2, image_count)\n",
        "                image_count += 1\n",
        "                image =cv2.imread(BASE_URL + directory + '/' + file)\n",
        "                img = cv2.cvtColor(image, cv2.COLOR_BGR2RGB)\n",
        "                plt.imshow(img)\n",
        "                plt.title(activity[directory])"
      ],
      "metadata": {
        "execution": {
          "iopub.status.busy": "2022-07-31T04:27:29.915470Z",
          "iopub.execute_input": "2022-07-31T04:27:29.918122Z",
          "iopub.status.idle": "2022-07-31T04:27:31.862391Z",
          "shell.execute_reply.started": "2022-07-31T04:27:29.918076Z",
          "shell.execute_reply": "2022-07-31T04:27:31.861481Z"
        },
        "trusted": true,
        "id": "hS4TWmv5ZIM9"
      },
      "execution_count": null,
      "outputs": []
    },
    {
      "cell_type": "markdown",
      "source": [
        "# **RESIZE IMAGES**"
      ],
      "metadata": {
        "id": "1jrrPmKPZIM9"
      }
    },
    {
      "cell_type": "code",
      "source": [
        "datagen = ImageDataGenerator(rescale=1 / 255.0)\n",
        "# ImageDataGenerator and usually it is used with rescaling factor 1./255 to rescale the initial values from 0 to 255 to 0 to 1 instead."
      ],
      "metadata": {
        "execution": {
          "iopub.status.busy": "2022-07-31T04:27:31.863435Z",
          "iopub.execute_input": "2022-07-31T04:27:31.864530Z",
          "iopub.status.idle": "2022-07-31T04:27:31.869716Z",
          "shell.execute_reply.started": "2022-07-31T04:27:31.864493Z",
          "shell.execute_reply": "2022-07-31T04:27:31.868716Z"
        },
        "trusted": true,
        "id": "cQsPQ2O4ZIM-"
      },
      "execution_count": null,
      "outputs": []
    },
    {
      "cell_type": "code",
      "source": [
        "batch_size = 32\n",
        "train_batches =datagen.flow_from_directory(directory = train_dir,shuffle = True,batch_size = batch_size)\n",
        "val_batches =datagen.flow_from_directory(directory = valid_dir,shuffle = True, batch_size = batch_size)\n",
        "test_batches =datagen.flow_from_directory(directory= test_dir,shuffle = False,batch_size = 1)"
      ],
      "metadata": {
        "execution": {
          "iopub.status.busy": "2022-07-31T04:27:31.871098Z",
          "iopub.execute_input": "2022-07-31T04:27:31.872128Z",
          "iopub.status.idle": "2022-07-31T04:27:32.641006Z",
          "shell.execute_reply.started": "2022-07-31T04:27:31.872092Z",
          "shell.execute_reply": "2022-07-31T04:27:32.639930Z"
        },
        "trusted": true,
        "id": "TdFPKrpTZIM-"
      },
      "execution_count": null,
      "outputs": []
    },
    {
      "cell_type": "markdown",
      "source": [
        "# Dense model"
      ],
      "metadata": {
        "id": "_9QQEOI2ZIM-"
      }
    },
    {
      "cell_type": "code",
      "source": [
        "network = models.Sequential()\n",
        "network.add(layers.Flatten(input_shape=(256,256,3)))\n",
        "network.add(layers.Dense(1024,activation = 'relu',name = 'input'))\n",
        "network.add(layers.BatchNormalization())\n",
        "#Batch normalization applies a transformation that maintains the mean \n",
        "#output close to 0 and the output standard deviation close to 1.\n",
        "network.add(layers.Dense(512,activation = 'relu',name = 'l1'))\n",
        "network.add(layers.BatchNormalization())\n",
        "network.add(layers.Dense(256,activation = 'relu',name = 'l2'))\n",
        "network.add(layers.BatchNormalization())\n",
        "network.add(layers.Dense(10,activation = 'softmax',name = 'output'))"
      ],
      "metadata": {
        "execution": {
          "iopub.status.busy": "2022-07-31T04:27:32.644945Z",
          "iopub.execute_input": "2022-07-31T04:27:32.645291Z",
          "iopub.status.idle": "2022-07-31T04:27:35.247134Z",
          "shell.execute_reply.started": "2022-07-31T04:27:32.645260Z",
          "shell.execute_reply": "2022-07-31T04:27:35.246091Z"
        },
        "trusted": true,
        "id": "Py2v6hE3ZIM-"
      },
      "execution_count": null,
      "outputs": []
    },
    {
      "cell_type": "code",
      "source": [
        "network.summary()"
      ],
      "metadata": {
        "execution": {
          "iopub.status.busy": "2022-07-31T04:27:35.248576Z",
          "iopub.execute_input": "2022-07-31T04:27:35.250315Z",
          "iopub.status.idle": "2022-07-31T04:27:35.258975Z",
          "shell.execute_reply.started": "2022-07-31T04:27:35.250261Z",
          "shell.execute_reply": "2022-07-31T04:27:35.257957Z"
        },
        "trusted": true,
        "id": "sJ3D4TPOZIM_"
      },
      "execution_count": null,
      "outputs": []
    },
    {
      "cell_type": "code",
      "source": [
        "plot_model(network,to_file='model.png')"
      ],
      "metadata": {
        "execution": {
          "iopub.status.busy": "2022-07-31T04:27:35.260159Z",
          "iopub.execute_input": "2022-07-31T04:27:35.260444Z",
          "iopub.status.idle": "2022-07-31T04:27:36.284658Z",
          "shell.execute_reply.started": "2022-07-31T04:27:35.260418Z",
          "shell.execute_reply": "2022-07-31T04:27:36.283102Z"
        },
        "trusted": true,
        "id": "M3MIXvMFZIM_"
      },
      "execution_count": null,
      "outputs": []
    },
    {
      "cell_type": "code",
      "source": [
        "network.compile(optimizer='Adam',\n",
        "                loss='categorical_crossentropy',\n",
        "                metrics=['acc'])"
      ],
      "metadata": {
        "execution": {
          "iopub.status.busy": "2022-07-31T04:27:36.286748Z",
          "iopub.execute_input": "2022-07-31T04:27:36.287356Z",
          "iopub.status.idle": "2022-07-31T04:27:36.305716Z",
          "shell.execute_reply.started": "2022-07-31T04:27:36.287313Z",
          "shell.execute_reply": "2022-07-31T04:27:36.304688Z"
        },
        "trusted": true,
        "id": "vZe2vHM3ZIM_"
      },
      "execution_count": null,
      "outputs": []
    },
    {
      "cell_type": "code",
      "source": [
        "stop_criteria = EarlyStopping(monitor='val_loss', mode='min', verbose=1,patience=3)\n",
        "dense_model=network.fit(x = train_batches,\n",
        "          steps_per_epoch=350,\n",
        "          epochs=15,\n",
        "          validation_data = val_batches,\n",
        "          validation_steps= 50\n",
        "          , callbacks=[stop_criteria]\n",
        "                       )"
      ],
      "metadata": {
        "execution": {
          "iopub.status.busy": "2022-07-31T04:27:36.307244Z",
          "iopub.execute_input": "2022-07-31T04:27:36.307793Z"
        },
        "trusted": true,
        "id": "HW4FwmqjZIM_"
      },
      "execution_count": null,
      "outputs": []
    },
    {
      "cell_type": "code",
      "source": [
        "dense_model.history"
      ],
      "metadata": {
        "trusted": true,
        "id": "QgDle0BJZIM_"
      },
      "execution_count": null,
      "outputs": []
    },
    {
      "cell_type": "code",
      "source": [
        "plt.plot(dense_model.history['loss'])  # blue line\n",
        "plt.plot(dense_model.history['val_loss']) #orange line\n",
        "plt.title('loss')\n",
        "plt.ylabel('loss')\n",
        "plt.legend(['train','validation'])"
      ],
      "metadata": {
        "trusted": true,
        "id": "VNgp8RQlZINA"
      },
      "execution_count": null,
      "outputs": []
    },
    {
      "cell_type": "code",
      "source": [
        "plt.plot(dense_model.history['acc'])  # blue line\n",
        "plt.plot(dense_model.history['val_acc']) #orange line\n",
        "plt.title('model accuracy')\n",
        "plt.ylabel('accuracy')\n",
        "plt.legend(['train','validation'])"
      ],
      "metadata": {
        "trusted": true,
        "id": "m2JuRJpJZINA"
      },
      "execution_count": null,
      "outputs": []
    },
    {
      "cell_type": "code",
      "source": [
        "dense_scores= network.evaluate(test_batches)\n",
        "print(\"Accuracy: %.2f%%\" % (dense_scores[1]*100))"
      ],
      "metadata": {
        "trusted": true,
        "id": "2JurhAZXZINA"
      },
      "execution_count": null,
      "outputs": []
    }
  ]
}