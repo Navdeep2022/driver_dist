{
  "metadata": {
    "kernelspec": {
      "display_name": "Python 3",
      "language": "python",
      "name": "python3"
    },
    "language_info": {
      "name": "python",
      "version": "3.6.6",
      "mimetype": "text/x-python",
      "codemirror_mode": {
        "name": "ipython",
        "version": 3
      },
      "pygments_lexer": "ipython3",
      "nbconvert_exporter": "python",
      "file_extension": ".py"
    },
    "colab": {
      "name": "cnn-model.ipynb",
      "provenance": [],
      "collapsed_sections": [
        "eNMY28sPY0-b",
        "olpN4L6xY0-c",
        "JY3VbgmYY0-d",
        "kY84yi5GY0-f"
      ]
    }
  },
  "nbformat_minor": 0,
  "nbformat": 4,
  "cells": [
    {
      "cell_type": "code",
      "source": [
        "import os\n",
        "from glob import glob\n",
        "import random\n",
        "import time\n",
        "import tensorflow\n",
        "import datetime\n",
        "os.environ['KERAS_BACKEND'] = 'tensorflow'\n",
        "os.environ['TF_CPP_MIN_LOG_LEVEL'] = '3' # 3 = INFO, WARNING, and ERROR messages are not printed\n",
        "\n",
        "from tqdm import tqdm\n",
        "from tensorflow.keras.utils import plot_model\n",
        "import numpy as np\n",
        "import pandas as pd\n",
        "from IPython.display import FileLink\n",
        "import matplotlib.pyplot as plt\n",
        "import warnings\n",
        "warnings.filterwarnings('ignore')\n",
        "import seaborn as sns \n",
        "%matplotlib inline\n",
        "from IPython.display import display, Image\n",
        "import matplotlib.image as mpimg\n",
        "import cv2\n",
        "\n",
        "from sklearn.model_selection import train_test_split\n",
        "from sklearn.datasets import load_files       \n",
        "from keras.utils import np_utils\n",
        "from sklearn.utils import shuffle\n",
        "from sklearn.metrics import log_loss\n",
        "\n",
        "from keras.models import Sequential, Model\n",
        "from keras.layers import Conv2D, MaxPooling2D, Flatten, Dense, Dropout, BatchNormalization, GlobalAveragePooling2D\n",
        "from keras.preprocessing.image import ImageDataGenerator\n",
        "from keras.preprocessing import image\n",
        "from keras.callbacks import ModelCheckpoint, EarlyStopping\n",
        "from keras.applications.vgg16 import VGG16"
      ],
      "metadata": {
        "_uuid": "8f2839f25d086af736a60e9eeb907d3b93b6e0e5",
        "_cell_guid": "b1076dfc-b9ad-4769-8c92-a6c4dae69d19",
        "execution": {
          "iopub.status.busy": "2022-07-23T07:43:22.769064Z",
          "iopub.execute_input": "2022-07-23T07:43:22.769375Z",
          "iopub.status.idle": "2022-07-23T07:43:22.788560Z",
          "shell.execute_reply.started": "2022-07-23T07:43:22.769305Z",
          "shell.execute_reply": "2022-07-23T07:43:22.787889Z"
        },
        "trusted": true,
        "id": "pCBIEkqSY0-Q"
      },
      "execution_count": null,
      "outputs": []
    },
    {
      "cell_type": "markdown",
      "source": [
        "## Import the Datasets\n",
        "\n",
        "I'll import the `.csv` file to read the labels."
      ],
      "metadata": {
        "id": "_xT3VKtiY0-S"
      }
    },
    {
      "cell_type": "code",
      "source": [
        "dataset = pd.read_csv('../input/driver_imgs_list.csv')\n",
        "dataset.head(5)"
      ],
      "metadata": {
        "execution": {
          "iopub.status.busy": "2022-07-23T06:40:03.499281Z",
          "iopub.execute_input": "2022-07-23T06:40:03.499640Z",
          "iopub.status.idle": "2022-07-23T06:40:03.558891Z",
          "shell.execute_reply.started": "2022-07-23T06:40:03.499562Z",
          "shell.execute_reply": "2022-07-23T06:40:03.558107Z"
        },
        "trusted": true,
        "id": "hKpQkNV5Y0-U"
      },
      "execution_count": null,
      "outputs": []
    },
    {
      "cell_type": "markdown",
      "source": [
        "From the csv file, I'll use the `classname` as the labels for the images and use the image names to match the labels with the correct images."
      ],
      "metadata": {
        "id": "RfWm7VT9Y0-U"
      }
    },
    {
      "cell_type": "markdown",
      "source": [
        "#### Import Driver Dataset"
      ],
      "metadata": {
        "id": "Bv9jcLTGY0-V"
      }
    },
    {
      "cell_type": "code",
      "source": [
        "by_drivers = dataset.groupby('subject')\n",
        "unique_drivers = by_drivers.groups.keys()\n",
        "print(unique_drivers)"
      ],
      "metadata": {
        "execution": {
          "iopub.status.busy": "2022-07-23T06:43:36.110006Z",
          "iopub.execute_input": "2022-07-23T06:43:36.110396Z",
          "iopub.status.idle": "2022-07-23T06:43:36.121641Z",
          "shell.execute_reply.started": "2022-07-23T06:43:36.110345Z",
          "shell.execute_reply": "2022-07-23T06:43:36.120680Z"
        },
        "trusted": true,
        "id": "Rpwc6m87Y0-V"
      },
      "execution_count": null,
      "outputs": []
    },
    {
      "cell_type": "markdown",
      "source": [
        "In the following, I prepare the code to import the dataset of the driver images. then populate a few variables."
      ],
      "metadata": {
        "id": "v-vm_b6GY0-W"
      }
    },
    {
      "cell_type": "code",
      "source": [
        "os.listdir('../input/imgs/train')"
      ],
      "metadata": {
        "execution": {
          "iopub.status.busy": "2022-07-23T06:56:32.567589Z",
          "iopub.execute_input": "2022-07-23T06:56:32.567879Z",
          "iopub.status.idle": "2022-07-23T06:56:32.588182Z",
          "shell.execute_reply.started": "2022-07-23T06:56:32.567831Z",
          "shell.execute_reply": "2022-07-23T06:56:32.587279Z"
        },
        "trusted": true,
        "id": "fs7N0yJEY0-W"
      },
      "execution_count": null,
      "outputs": []
    },
    {
      "cell_type": "code",
      "source": [
        "\n",
        "NUMBER_CLASSES = 10\n",
        "# Color type: 1 - grey, 3 - rgb\n",
        "\n",
        "def get_cv2_image(path, img_rows, img_cols, color_type=3):\n",
        "    # Loading as Grayscale image\n",
        "    if color_type == 1:\n",
        "        img = cv2.imread(path, cv2.IMREAD_GRAYSCALE)\n",
        "    elif color_type == 3:\n",
        "        img = cv2.imread(path, cv2.IMREAD_COLOR)\n",
        "    # Reduce size\n",
        "    img = cv2.resize(img, (img_rows, img_cols)) \n",
        "    return img\n",
        "\n",
        "# Training\n",
        "def load_train(img_rows, img_cols, color_type=3):\n",
        "    start_time = time.time()\n",
        "    train_images = [] \n",
        "    train_labels = []\n",
        "#     ../input/state-farm-distracted-driver-detection/imgs/train\n",
        "    # Loop over the training folder \n",
        "    for classed in tqdm(range(NUMBER_CLASSES)):\n",
        "        print('Loading directory c{}'.format(classed))\n",
        "        files = glob(os.path.join('..', 'input','imgs','train', 'c' + str(classed), '*.jpg'))\n",
        "        \n",
        "        for file in files:\n",
        "#             print(file)\n",
        "            img = get_cv2_image(file, img_rows, img_cols, color_type)\n",
        "            train_images.append(img)\n",
        "            train_labels.append(classed)\n",
        "            \n",
        "    print(\"Data Loaded in {} second\".format(time.time() - start_time))\n",
        "    return train_images, train_labels \n",
        "\n",
        "def read_and_normalize_train_data(img_rows, img_cols, color_type):\n",
        "    X, labels = load_train(img_rows, img_cols, color_type)\n",
        "    y = np_utils.to_categorical(labels, 10)\n",
        "    print(X[:1])\n",
        "    x_train, x_test, y_train, y_test = train_test_split(X, y, test_size=0.2)\n",
        "    \n",
        "    x_train = np.array(x_train, dtype=np.uint8).reshape(-1,img_rows,img_cols,color_type)\n",
        "    x_test = np.array(x_test, dtype=np.uint8).reshape(-1,img_rows,img_cols,color_type)\n",
        "    \n",
        "    return x_train, x_test, y_train, y_test\n",
        "\n",
        "# Validation\n",
        "def load_test(size=200000, img_rows=64, img_cols=64, color_type=3):\n",
        "    path = os.path.join('..', 'input', 'test', '*.jpg')\n",
        "    files = sorted(glob(path))\n",
        "    X_test, X_test_id = [], []\n",
        "    total = 0\n",
        "    files_size = len(files)\n",
        "    for file in tqdm(files):\n",
        "        if total >= size or total >= files_size:\n",
        "            break\n",
        "        file_base = os.path.basename(file)\n",
        "        img = get_cv2_image(file, img_rows, img_cols, color_type)\n",
        "        X_test.append(img)\n",
        "        X_test_id.append(file_base)\n",
        "        total += 1\n",
        "    return X_test, X_test_id\n",
        "\n",
        "def read_and_normalize_sampled_test_data(size, img_rows, img_cols, color_type=3):\n",
        "    test_data, test_ids = load_test(size, img_rows, img_cols, color_type)\n",
        "    \n",
        "    test_data = np.array(test_data, dtype=np.uint8)\n",
        "    test_data = test_data.reshape(-1,img_rows,img_cols,color_type)\n",
        "    \n",
        "    return test_data, test_ids"
      ],
      "metadata": {
        "execution": {
          "iopub.status.busy": "2022-07-23T06:56:50.901941Z",
          "iopub.execute_input": "2022-07-23T06:56:50.902248Z",
          "iopub.status.idle": "2022-07-23T06:56:50.922213Z",
          "shell.execute_reply.started": "2022-07-23T06:56:50.902196Z",
          "shell.execute_reply": "2022-07-23T06:56:50.921177Z"
        },
        "trusted": true,
        "id": "vzsE1rUyY0-X"
      },
      "execution_count": null,
      "outputs": []
    },
    {
      "cell_type": "code",
      "source": [
        "img_rows = 64\n",
        "img_cols = 64\n",
        "color_type = 1"
      ],
      "metadata": {
        "execution": {
          "iopub.status.busy": "2022-07-23T06:56:51.514164Z",
          "iopub.execute_input": "2022-07-23T06:56:51.514467Z",
          "iopub.status.idle": "2022-07-23T06:56:51.518935Z",
          "shell.execute_reply.started": "2022-07-23T06:56:51.514415Z",
          "shell.execute_reply": "2022-07-23T06:56:51.517941Z"
        },
        "trusted": true,
        "id": "Mh7Ym64uY0-Y"
      },
      "execution_count": null,
      "outputs": []
    },
    {
      "cell_type": "code",
      "source": [
        "x_train, x_test, y_train, y_test = read_and_normalize_train_data(img_rows, img_cols, color_type)\n",
        "print('Train shape:', x_train.shape)\n",
        "print(x_train.shape[0], 'train samples')"
      ],
      "metadata": {
        "execution": {
          "iopub.status.busy": "2022-07-23T06:56:51.927904Z",
          "iopub.execute_input": "2022-07-23T06:56:51.928192Z",
          "iopub.status.idle": "2022-07-23T07:00:33.873977Z",
          "shell.execute_reply.started": "2022-07-23T06:56:51.928143Z",
          "shell.execute_reply": "2022-07-23T07:00:33.873229Z"
        },
        "trusted": true,
        "id": "6VoaWpLkY0-Y"
      },
      "execution_count": null,
      "outputs": []
    },
    {
      "cell_type": "code",
      "source": [
        "nb_test_samples = 200\n",
        "test_files, test_targets = read_and_normalize_sampled_test_data(nb_test_samples, img_rows, img_cols, color_type)\n",
        "print('Test shape:', test_files.shape)\n",
        "print(test_files.shape[0], 'Test samples')"
      ],
      "metadata": {
        "execution": {
          "iopub.status.busy": "2022-07-23T07:00:40.071869Z",
          "iopub.execute_input": "2022-07-23T07:00:40.072149Z",
          "iopub.status.idle": "2022-07-23T07:00:40.082650Z",
          "shell.execute_reply.started": "2022-07-23T07:00:40.072102Z",
          "shell.execute_reply": "2022-07-23T07:00:40.081664Z"
        },
        "trusted": true,
        "id": "E-Em3cgwY0-Z"
      },
      "execution_count": null,
      "outputs": []
    },
    {
      "cell_type": "markdown",
      "source": [
        "#### Statistics"
      ],
      "metadata": {
        "id": "PuoMSpKBY0-Z"
      }
    },
    {
      "cell_type": "code",
      "source": [
        "# Statistics\n",
        "# Load the list of names\n",
        "names = [item[17:19] for item in sorted(glob(\"../input/imgs/train/*/\"))]\n",
        "test_files_size = len(np.array(glob(os.path.join('..', 'input', 'imgs','test', '*.jpg'))))\n",
        "x_train_size = len(x_train)\n",
        "categories_size = len(names)\n",
        "x_test_size = len(x_test)\n",
        "print('There are %s total images.\\n' % (test_files_size + x_train_size + x_test_size))\n",
        "print('There are %d training images.' % x_train_size)\n",
        "print('There are %d total training categories.' % categories_size)\n",
        "print('There are %d validation images.' % x_test_size)\n",
        "print('There are %d test images.'% test_files_size)"
      ],
      "metadata": {
        "execution": {
          "iopub.status.busy": "2022-07-23T07:01:18.160142Z",
          "iopub.execute_input": "2022-07-23T07:01:18.160450Z",
          "iopub.status.idle": "2022-07-23T07:01:22.747720Z",
          "shell.execute_reply.started": "2022-07-23T07:01:18.160398Z",
          "shell.execute_reply": "2022-07-23T07:01:22.747062Z"
        },
        "trusted": true,
        "id": "WQgbU2C6Y0-a"
      },
      "execution_count": null,
      "outputs": []
    },
    {
      "cell_type": "markdown",
      "source": [
        "#### Dataset Visualization"
      ],
      "metadata": {
        "id": "9kMyUCecY0-a"
      }
    },
    {
      "cell_type": "code",
      "source": [
        "# Plot figure size\n",
        "plt.figure(figsize = (10,10))\n",
        "# Count the number of images per category\n",
        "sns.countplot(x = 'classname', data = dataset)\n",
        "# Change the Axis names\n",
        "plt.ylabel('Count')\n",
        "plt.title('Categories Distribution')\n",
        "# Show plot\n",
        "plt.show()"
      ],
      "metadata": {
        "execution": {
          "iopub.status.busy": "2022-07-23T07:01:28.928481Z",
          "iopub.execute_input": "2022-07-23T07:01:28.928788Z",
          "iopub.status.idle": "2022-07-23T07:01:29.298127Z",
          "shell.execute_reply.started": "2022-07-23T07:01:28.928739Z",
          "shell.execute_reply": "2022-07-23T07:01:29.297304Z"
        },
        "trusted": true,
        "id": "Y_WtIiyaY0-a"
      },
      "execution_count": null,
      "outputs": []
    },
    {
      "cell_type": "code",
      "source": [
        "# Find the frequency of images per driver\n",
        "drivers_id = pd.DataFrame((dataset['subject'].value_counts()).reset_index())\n",
        "drivers_id.columns = ['driver_id', 'Counts']\n",
        "drivers_id"
      ],
      "metadata": {
        "execution": {
          "iopub.status.busy": "2022-07-23T07:01:30.808107Z",
          "iopub.execute_input": "2022-07-23T07:01:30.808416Z",
          "iopub.status.idle": "2022-07-23T07:01:30.832966Z",
          "shell.execute_reply.started": "2022-07-23T07:01:30.808363Z",
          "shell.execute_reply": "2022-07-23T07:01:30.832066Z"
        },
        "trusted": true,
        "id": "dU_6tRm3Y0-b"
      },
      "execution_count": null,
      "outputs": []
    },
    {
      "cell_type": "code",
      "source": [
        "# Plotting class distribution\n",
        "dataset['class_type'] = dataset['classname'].str.extract('(\\d)',expand=False).astype(np.float)\n",
        "plt.figure(figsize = (20,20))\n",
        "dataset.hist('class_type', alpha=0.5, layout=(1,1), bins=10)\n",
        "plt.title('Class distribution')\n",
        "plt.show()"
      ],
      "metadata": {
        "execution": {
          "iopub.status.busy": "2022-07-23T07:01:33.002858Z",
          "iopub.execute_input": "2022-07-23T07:01:33.003154Z",
          "iopub.status.idle": "2022-07-23T07:01:33.262938Z",
          "shell.execute_reply.started": "2022-07-23T07:01:33.003103Z",
          "shell.execute_reply": "2022-07-23T07:01:33.260893Z"
        },
        "trusted": true,
        "id": "mirKWMk7Y0-b"
      },
      "execution_count": null,
      "outputs": []
    },
    {
      "cell_type": "markdown",
      "source": [
        "#### Images overview\n",
        "\n",
        "Let's take a look at the various images in the dataset. I'll plot an image for each of the 10 classes. As the directory names are not descriptive, I'll use a map to define the title for each image that is more descriptive."
      ],
      "metadata": {
        "id": "eNMY28sPY0-b"
      }
    },
    {
      "cell_type": "code",
      "source": [
        "activity_map = {'c0': 'Safe driving', \n",
        "                'c1': 'Texting - right', \n",
        "                'c2': 'Talking on the phone - right', \n",
        "                'c3': 'Texting - left', \n",
        "                'c4': 'Talking on the phone - left', \n",
        "                'c5': 'Operating the radio', \n",
        "                'c6': 'Drinking', \n",
        "                'c7': 'Reaching behind', \n",
        "                'c8': 'Hair and makeup', \n",
        "                'c9': 'Talking to passenger'}"
      ],
      "metadata": {
        "execution": {
          "iopub.status.busy": "2022-07-23T07:01:35.730486Z",
          "iopub.execute_input": "2022-07-23T07:01:35.730774Z",
          "iopub.status.idle": "2022-07-23T07:01:35.736017Z",
          "shell.execute_reply.started": "2022-07-23T07:01:35.730724Z",
          "shell.execute_reply": "2022-07-23T07:01:35.735195Z"
        },
        "trusted": true,
        "id": "dE49cDLpY0-b"
      },
      "execution_count": null,
      "outputs": []
    },
    {
      "cell_type": "code",
      "source": [
        "plt.figure(figsize = (12, 20))\n",
        "image_count = 1\n",
        "BASE_URL = '../input/imgs/train/'\n",
        "for directory in os.listdir(BASE_URL):\n",
        "    if directory[0] != '.':\n",
        "        for i, file in enumerate(os.listdir(BASE_URL + directory)):\n",
        "            if i == 1:\n",
        "                break\n",
        "            else:\n",
        "                fig = plt.subplot(5, 2, image_count)\n",
        "                image_count += 1\n",
        "                image = mpimg.imread(BASE_URL + directory + '/' + file)\n",
        "                plt.imshow(image)\n",
        "                plt.title(activity_map[directory])"
      ],
      "metadata": {
        "execution": {
          "iopub.status.busy": "2022-07-23T07:01:47.693936Z",
          "iopub.execute_input": "2022-07-23T07:01:47.694230Z",
          "iopub.status.idle": "2022-07-23T07:01:49.944262Z",
          "shell.execute_reply.started": "2022-07-23T07:01:47.694180Z",
          "shell.execute_reply": "2022-07-23T07:01:49.943293Z"
        },
        "trusted": true,
        "id": "Z70_PeRLY0-c"
      },
      "execution_count": null,
      "outputs": []
    },
    {
      "cell_type": "code",
      "source": [
        "def create_submission(predictions, test_id, info):\n",
        "    result = pd.DataFrame(predictions, columns=['c0', 'c1', 'c2', 'c3', 'c4', 'c5', 'c6', 'c7', 'c8', 'c9'])\n",
        "    result.loc[:, 'img'] = pd.Series(test_id, index=result.index)\n",
        "    \n",
        "    now = datetime.datetime.now()\n",
        "    \n",
        "    if not os.path.isdir('kaggle_submissions'):\n",
        "        os.mkdir('kaggle_submissions')\n",
        "\n",
        "    suffix = \"{}_{}\".format(info,str(now.strftime(\"%Y-%m-%d-%H-%M\")))\n",
        "    sub_file = os.path.join('kaggle_submissions', 'submission_' + suffix + '.csv')\n",
        "    \n",
        "    result.to_csv(sub_file, index=False)\n",
        "    \n",
        "    return sub_file"
      ],
      "metadata": {
        "execution": {
          "iopub.status.busy": "2022-07-23T07:01:54.221708Z",
          "iopub.execute_input": "2022-07-23T07:01:54.222013Z",
          "iopub.status.idle": "2022-07-23T07:01:54.229862Z",
          "shell.execute_reply.started": "2022-07-23T07:01:54.221946Z",
          "shell.execute_reply": "2022-07-23T07:01:54.228926Z"
        },
        "trusted": true,
        "id": "32IR9MpGY0-c"
      },
      "execution_count": null,
      "outputs": []
    },
    {
      "cell_type": "markdown",
      "source": [
        "## Create a vanilla CNN model"
      ],
      "metadata": {
        "id": "H1lnZA5lY0-c"
      }
    },
    {
      "cell_type": "markdown",
      "source": [
        "#### Building the model\n",
        "\n",
        "I'll develop the model with a total of 4 Convolutional layers, then a Flatten layer and then 2 Dense layers. I'll use the optimizer as `rmsprop`, and loss as `categorical_crossentropy`."
      ],
      "metadata": {
        "id": "olpN4L6xY0-c"
      }
    },
    {
      "cell_type": "code",
      "source": [
        "batch_size = 40\n",
        "nb_epoch = 10"
      ],
      "metadata": {
        "execution": {
          "iopub.status.busy": "2022-07-23T07:03:18.063515Z",
          "iopub.execute_input": "2022-07-23T07:03:18.063807Z",
          "iopub.status.idle": "2022-07-23T07:03:18.067914Z",
          "shell.execute_reply.started": "2022-07-23T07:03:18.063757Z",
          "shell.execute_reply": "2022-07-23T07:03:18.066896Z"
        },
        "trusted": true,
        "id": "TzXlh6-fY0-c"
      },
      "execution_count": null,
      "outputs": []
    },
    {
      "cell_type": "code",
      "source": [
        "!rm -f saved_models/weights_best_vanilla.hdf5"
      ],
      "metadata": {
        "trusted": true,
        "id": "gBL7Ql26Y0-c"
      },
      "execution_count": null,
      "outputs": []
    },
    {
      "cell_type": "code",
      "source": [
        "models_dir = \"saved_models\"\n",
        "if not os.path.exists(models_dir):\n",
        "    os.makedirs(models_dir)\n",
        "    \n",
        "checkpointer = ModelCheckpoint(filepath='saved_models/weights_best_vanilla.hdf5', \n",
        "                               monitor='val_loss', mode='min',\n",
        "                               verbose=1, save_best_only=True)\n",
        "es = EarlyStopping(monitor='val_loss', mode='min', verbose=1, patience=2)\n",
        "callbacks = [checkpointer, es]"
      ],
      "metadata": {
        "execution": {
          "iopub.status.busy": "2022-07-23T07:04:38.219299Z",
          "iopub.execute_input": "2022-07-23T07:04:38.219667Z",
          "iopub.status.idle": "2022-07-23T07:04:38.226920Z",
          "shell.execute_reply.started": "2022-07-23T07:04:38.219615Z",
          "shell.execute_reply": "2022-07-23T07:04:38.224669Z"
        },
        "trusted": true,
        "id": "K55-ypWAY0-d"
      },
      "execution_count": null,
      "outputs": []
    },
    {
      "cell_type": "markdown",
      "source": [
        "#### Model v1\n",
        "---"
      ],
      "metadata": {
        "id": "JY3VbgmYY0-d"
      }
    },
    {
      "cell_type": "code",
      "source": [
        "def create_model_v1():\n",
        "    # Vanilla CNN model\n",
        "    model = Sequential()\n",
        "\n",
        "    model.add(Conv2D(filters = 64, kernel_size = 3, padding='same', activation = 'relu', input_shape=(img_rows, img_cols, color_type)))\n",
        "    model.add(MaxPooling2D(pool_size = 2))\n",
        "\n",
        "    model.add(Conv2D(filters = 128, padding='same', kernel_size = 3, activation = 'relu'))\n",
        "    model.add(MaxPooling2D(pool_size = 2))\n",
        "\n",
        "    model.add(Conv2D(filters = 256, padding='same', kernel_size = 3, activation = 'relu'))\n",
        "    model.add(MaxPooling2D(pool_size = 2))\n",
        "\n",
        "    model.add(Conv2D(filters = 512, padding='same', kernel_size = 3, activation = 'relu'))\n",
        "    model.add(MaxPooling2D(pool_size = 2))\n",
        "\n",
        "    model.add(Dropout(0.5))\n",
        "\n",
        "    model.add(Flatten())\n",
        "\n",
        "    model.add(Dense(500, activation = 'relu'))\n",
        "    model.add(Dropout(0.5))\n",
        "    model.add(Dense(10, activation = 'softmax'))\n",
        "    \n",
        "    return model"
      ],
      "metadata": {
        "_cell_guid": "79c7e3d0-c299-4dcb-8224-4455121ee9b0",
        "_uuid": "d629ff2d2480ee46fbb7e2d37f6b5fab8052498a",
        "execution": {
          "iopub.status.busy": "2022-07-23T07:42:00.478749Z",
          "iopub.execute_input": "2022-07-23T07:42:00.479309Z",
          "iopub.status.idle": "2022-07-23T07:42:00.490767Z",
          "shell.execute_reply.started": "2022-07-23T07:42:00.479247Z",
          "shell.execute_reply": "2022-07-23T07:42:00.489625Z"
        },
        "trusted": true,
        "id": "41xnEs8yY0-d"
      },
      "execution_count": null,
      "outputs": []
    },
    {
      "cell_type": "code",
      "source": [
        "model_v1 = create_model_v1()\n",
        "\n",
        "# More details about the layers\n",
        "model_v1.summary()\n",
        "\n",
        "# Compiling the model\n",
        "model_v1.compile(optimizer='rmsprop', loss='categorical_crossentropy', metrics=['accuracy'])"
      ],
      "metadata": {
        "execution": {
          "iopub.status.busy": "2022-07-23T07:42:04.343798Z",
          "iopub.execute_input": "2022-07-23T07:42:04.344199Z",
          "iopub.status.idle": "2022-07-23T07:42:04.509151Z",
          "shell.execute_reply.started": "2022-07-23T07:42:04.344033Z",
          "shell.execute_reply": "2022-07-23T07:42:04.507631Z"
        },
        "trusted": true,
        "id": "_XfFIktgY0-d"
      },
      "execution_count": null,
      "outputs": []
    },
    {
      "cell_type": "code",
      "source": [
        "plot_model(model_v1,to_file='model_v1.png')"
      ],
      "metadata": {
        "execution": {
          "iopub.status.busy": "2022-07-23T07:44:08.886733Z",
          "iopub.execute_input": "2022-07-23T07:44:08.887029Z",
          "iopub.status.idle": "2022-07-23T07:44:10.120130Z",
          "shell.execute_reply.started": "2022-07-23T07:44:08.886979Z",
          "shell.execute_reply": "2022-07-23T07:44:10.119344Z"
        },
        "trusted": true,
        "id": "4Lco4hN2Y0-d"
      },
      "execution_count": null,
      "outputs": []
    },
    {
      "cell_type": "code",
      "source": [
        "# Training the Vanilla Model version 1\n",
        "history_v1 = model_v1.fit(x_train, y_train, \n",
        "          validation_data=(x_test, y_test),\n",
        "          callbacks=callbacks,\n",
        "          epochs=nb_epoch, batch_size=batch_size, verbose=1)"
      ],
      "metadata": {
        "trusted": true,
        "id": "z1o2BtztY0-d"
      },
      "execution_count": null,
      "outputs": []
    },
    {
      "cell_type": "markdown",
      "source": [
        "Load the classifier with the best validation loss"
      ],
      "metadata": {
        "id": "kE8V9squY0-d"
      }
    },
    {
      "cell_type": "code",
      "source": [
        "model_v1.load_weights('saved_models/weights_best_vanilla.hdf5')"
      ],
      "metadata": {
        "trusted": true,
        "id": "qbkE0G2bY0-e"
      },
      "execution_count": null,
      "outputs": []
    },
    {
      "cell_type": "code",
      "source": [
        "def plot_train_history(history):\n",
        "    # Summarize history for accuracy\n",
        "    plt.plot(history.history['acc'])\n",
        "    plt.plot(history.history['val_acc'])\n",
        "    plt.title('Model accuracy')\n",
        "    plt.ylabel('accuracy')\n",
        "    plt.xlabel('epoch')\n",
        "    plt.legend(['train', 'test'], loc='upper left')\n",
        "    plt.show()\n",
        "\n",
        "    # Summarize history for loss\n",
        "    plt.plot(history.history['loss'])\n",
        "    plt.plot(history.history['val_loss'])\n",
        "    plt.title('Model loss')\n",
        "    plt.ylabel('loss')\n",
        "    plt.xlabel('epoch')\n",
        "    plt.legend(['train', 'test'], loc='upper left')\n",
        "    plt.show()"
      ],
      "metadata": {
        "execution": {
          "iopub.status.busy": "2022-07-23T07:02:12.441747Z",
          "iopub.execute_input": "2022-07-23T07:02:12.442060Z",
          "iopub.status.idle": "2022-07-23T07:02:12.449108Z",
          "shell.execute_reply.started": "2022-07-23T07:02:12.442009Z",
          "shell.execute_reply": "2022-07-23T07:02:12.448371Z"
        },
        "trusted": true,
        "id": "LxmmAlooY0-e"
      },
      "execution_count": null,
      "outputs": []
    },
    {
      "cell_type": "code",
      "source": [
        "plot_train_history(history_v1)"
      ],
      "metadata": {
        "trusted": true,
        "id": "PB6eYofDY0-e"
      },
      "execution_count": null,
      "outputs": []
    },
    {
      "cell_type": "code",
      "source": [
        "def plot_test_class(model, test_files, image_number, color_type=1):\n",
        "    img_brute = test_files[image_number]\n",
        "    img_brute = cv2.resize(img_brute,(img_rows,img_cols))\n",
        "    plt.imshow(img_brute, cmap='gray')\n",
        "\n",
        "    new_img = img_brute.reshape(-1,img_rows,img_cols,color_type)\n",
        "\n",
        "    y_prediction = model.predict(new_img, batch_size=batch_size, verbose=1)\n",
        "    print('Y prediction: {}'.format(y_prediction))\n",
        "    print('Predicted: {}'.format(activity_map.get('c{}'.format(np.argmax(y_prediction)))))\n",
        "    \n",
        "    plt.show()"
      ],
      "metadata": {
        "execution": {
          "iopub.status.busy": "2022-07-23T07:02:16.008226Z",
          "iopub.execute_input": "2022-07-23T07:02:16.008684Z",
          "iopub.status.idle": "2022-07-23T07:02:16.016928Z",
          "shell.execute_reply.started": "2022-07-23T07:02:16.008624Z",
          "shell.execute_reply": "2022-07-23T07:02:16.015077Z"
        },
        "trusted": true,
        "id": "mOTz9ffzY0-e"
      },
      "execution_count": null,
      "outputs": []
    },
    {
      "cell_type": "code",
      "source": [
        "score = model_v1.evaluate(x_test, y_test, verbose=1)\n",
        "print('Score: ', score)"
      ],
      "metadata": {
        "trusted": true,
        "id": "IzQQkKgkY0-e"
      },
      "execution_count": null,
      "outputs": []
    },
    {
      "cell_type": "code",
      "source": [
        "plot_test_class(model_v1, test_files, 20)"
      ],
      "metadata": {
        "trusted": true,
        "id": "uXiRW3X7Y0-e"
      },
      "execution_count": null,
      "outputs": []
    },
    {
      "cell_type": "code",
      "source": [
        "!rm -f saved_models/weights_best_vanilla.hdf5"
      ],
      "metadata": {
        "trusted": true,
        "id": "5NjSM79qY0-f"
      },
      "execution_count": null,
      "outputs": []
    },
    {
      "cell_type": "markdown",
      "source": [
        "#### Optimised Vanilla CNN Model "
      ],
      "metadata": {
        "id": "kY84yi5GY0-f"
      }
    },
    {
      "cell_type": "markdown",
      "source": [
        "#### Model v2\n",
        "---"
      ],
      "metadata": {
        "id": "huRRar6UY0-f"
      }
    },
    {
      "cell_type": "code",
      "source": [
        "def create_model_v2():\n",
        "    # Optimised Vanilla CNN model\n",
        "    model = Sequential()\n",
        "\n",
        "    ## CNN 1\n",
        "    model.add(Conv2D(32,(3,3),activation='relu',input_shape=(img_rows, img_cols, color_type)))\n",
        "    model.add(BatchNormalization())\n",
        "    model.add(Conv2D(32,(3,3),activation='relu',padding='same'))\n",
        "    model.add(BatchNormalization(axis = 3))\n",
        "    model.add(MaxPooling2D(pool_size=(2,2),padding='same'))\n",
        "    model.add(Dropout(0.3))\n",
        "\n",
        "    ## CNN 2\n",
        "    model.add(Conv2D(64,(3,3),activation='relu',padding='same'))\n",
        "    model.add(BatchNormalization())\n",
        "    model.add(Conv2D(64,(3,3),activation='relu',padding='same'))\n",
        "    model.add(BatchNormalization(axis = 3))\n",
        "    model.add(MaxPooling2D(pool_size=(2,2),padding='same'))\n",
        "    model.add(Dropout(0.3))\n",
        "\n",
        "    ## CNN 3\n",
        "    model.add(Conv2D(128,(3,3),activation='relu',padding='same'))\n",
        "    model.add(BatchNormalization())\n",
        "    model.add(Conv2D(128,(3,3),activation='relu',padding='same'))\n",
        "    model.add(BatchNormalization(axis = 3))\n",
        "    model.add(MaxPooling2D(pool_size=(2,2),padding='same'))\n",
        "    model.add(Dropout(0.5))\n",
        "\n",
        "    ## Output\n",
        "    model.add(Flatten())\n",
        "    model.add(Dense(512,activation='relu'))\n",
        "    model.add(BatchNormalization())\n",
        "    model.add(Dropout(0.5))\n",
        "    model.add(Dense(128,activation='relu'))\n",
        "    model.add(Dropout(0.25))\n",
        "    model.add(Dense(10,activation='softmax'))\n",
        "\n",
        "    return model"
      ],
      "metadata": {
        "execution": {
          "iopub.status.busy": "2022-07-23T07:04:43.451273Z",
          "iopub.execute_input": "2022-07-23T07:04:43.451587Z",
          "iopub.status.idle": "2022-07-23T07:04:43.465751Z",
          "shell.execute_reply.started": "2022-07-23T07:04:43.451541Z",
          "shell.execute_reply": "2022-07-23T07:04:43.464719Z"
        },
        "trusted": true,
        "id": "SwXlsnTLY0-f"
      },
      "execution_count": null,
      "outputs": []
    },
    {
      "cell_type": "code",
      "source": [
        "model_v2 = create_model_v2()\n",
        "\n",
        "# More details about the layers\n",
        "model_v2.summary()\n",
        "\n",
        "# Compiling the model\n",
        "model_v2.compile(optimizer='rmsprop', loss='categorical_crossentropy', metrics=['accuracy'])"
      ],
      "metadata": {
        "execution": {
          "iopub.status.busy": "2022-07-23T07:04:45.066710Z",
          "iopub.execute_input": "2022-07-23T07:04:45.066999Z",
          "iopub.status.idle": "2022-07-23T07:04:45.899033Z",
          "shell.execute_reply.started": "2022-07-23T07:04:45.066949Z",
          "shell.execute_reply": "2022-07-23T07:04:45.898193Z"
        },
        "trusted": true,
        "id": "iiPDUK8rY0-f"
      },
      "execution_count": null,
      "outputs": []
    },
    {
      "cell_type": "code",
      "source": [
        "# Training the Vanilla Model\n",
        "history_v2 = model_v2.fit(x_train, y_train, \n",
        "          validation_data=(x_test, y_test),\n",
        "          callbacks=callbacks,\n",
        "          epochs=nb_epoch, batch_size=batch_size, verbose=1)"
      ],
      "metadata": {
        "execution": {
          "iopub.status.busy": "2022-07-23T07:04:48.234970Z",
          "iopub.execute_input": "2022-07-23T07:04:48.235264Z",
          "iopub.status.idle": "2022-07-23T07:06:23.325732Z",
          "shell.execute_reply.started": "2022-07-23T07:04:48.235214Z",
          "shell.execute_reply": "2022-07-23T07:06:23.324620Z"
        },
        "trusted": true,
        "id": "rVdyOQ6PY0-f"
      },
      "execution_count": null,
      "outputs": []
    },
    {
      "cell_type": "code",
      "source": [
        "plot_train_history(history_v2)"
      ],
      "metadata": {
        "execution": {
          "iopub.status.busy": "2022-07-23T07:07:15.019072Z",
          "iopub.execute_input": "2022-07-23T07:07:15.019400Z",
          "iopub.status.idle": "2022-07-23T07:07:15.452958Z",
          "shell.execute_reply.started": "2022-07-23T07:07:15.019345Z",
          "shell.execute_reply": "2022-07-23T07:07:15.452073Z"
        },
        "trusted": true,
        "id": "zQUM5RggY0-f"
      },
      "execution_count": null,
      "outputs": []
    },
    {
      "cell_type": "code",
      "source": [
        "model_v2.load_weights('saved_models/weights_best_vanilla.hdf5')"
      ],
      "metadata": {
        "execution": {
          "iopub.status.busy": "2022-07-23T07:07:17.963150Z",
          "iopub.execute_input": "2022-07-23T07:07:17.963454Z",
          "iopub.status.idle": "2022-07-23T07:07:18.248394Z",
          "shell.execute_reply.started": "2022-07-23T07:07:17.963402Z",
          "shell.execute_reply": "2022-07-23T07:07:18.247660Z"
        },
        "trusted": true,
        "id": "LRtLZdd4Y0-f"
      },
      "execution_count": null,
      "outputs": []
    },
    {
      "cell_type": "code",
      "source": [
        "score = model_v2.evaluate(x_test, y_test, verbose=1)\n",
        "print('Score: ', score)\n",
        "\n",
        "y_pred = model_v2.predict(x_test, batch_size=batch_size, verbose=1)\n",
        "score = log_loss(y_test, y_pred)\n",
        "print('Score log loss:', score)"
      ],
      "metadata": {
        "execution": {
          "iopub.status.busy": "2022-07-23T07:07:19.413424Z",
          "iopub.execute_input": "2022-07-23T07:07:19.413721Z",
          "iopub.status.idle": "2022-07-23T07:07:21.078494Z",
          "shell.execute_reply.started": "2022-07-23T07:07:19.413675Z",
          "shell.execute_reply": "2022-07-23T07:07:21.077430Z"
        },
        "trusted": true,
        "id": "YhYuG9uNY0-f"
      },
      "execution_count": null,
      "outputs": []
    },
    {
      "cell_type": "code",
      "source": [
        "plot_test_class(model_v2, test_files, 0) # The model really performs badly"
      ],
      "metadata": {
        "execution": {
          "iopub.status.busy": "2022-07-23T07:07:40.734211Z",
          "iopub.execute_input": "2022-07-23T07:07:40.734523Z",
          "iopub.status.idle": "2022-07-23T07:07:40.770108Z",
          "shell.execute_reply.started": "2022-07-23T07:07:40.734473Z",
          "shell.execute_reply": "2022-07-23T07:07:40.768941Z"
        },
        "trusted": true,
        "id": "HwNyeMJwY0-g"
      },
      "execution_count": null,
      "outputs": []
    },
    {
      "cell_type": "code",
      "source": [
        "plot_test_class(model_v2, test_files, 1) # The model really performs badly"
      ],
      "metadata": {
        "execution": {
          "iopub.status.busy": "2022-07-23T07:07:53.914797Z",
          "iopub.execute_input": "2022-07-23T07:07:53.915109Z",
          "iopub.status.idle": "2022-07-23T07:07:53.949846Z",
          "shell.execute_reply.started": "2022-07-23T07:07:53.915049Z",
          "shell.execute_reply": "2022-07-23T07:07:53.948868Z"
        },
        "trusted": true,
        "id": "OGhPPfXOY0-g"
      },
      "execution_count": null,
      "outputs": []
    },
    {
      "cell_type": "code",
      "source": [
        "plot_test_class(model_v2, test_files, 143) "
      ],
      "metadata": {
        "execution": {
          "iopub.status.busy": "2022-07-23T07:07:56.761534Z",
          "iopub.execute_input": "2022-07-23T07:07:56.761866Z",
          "iopub.status.idle": "2022-07-23T07:07:56.793883Z",
          "shell.execute_reply.started": "2022-07-23T07:07:56.761817Z",
          "shell.execute_reply": "2022-07-23T07:07:56.792814Z"
        },
        "trusted": true,
        "id": "rDPPOE5ZY0-g"
      },
      "execution_count": null,
      "outputs": []
    },
    {
      "cell_type": "markdown",
      "source": [
        "## Create a vanilla CNN model with data augmentation\n",
        "\n",
        "Here I'm augmenting the previous model `classifier`, I'll use the data on which I want to train the model. The folder `train` includes the images I need. I'll generate more images using **ImageDataGenerator** and split the training data into 80% train and 20% validation split."
      ],
      "metadata": {
        "id": "rVHVUTzZY0-g"
      }
    },
    {
      "cell_type": "code",
      "source": [
        "!rm -f saved_models/weights_best_vanilla.hdf5"
      ],
      "metadata": {
        "trusted": true,
        "id": "myGskA_FY0-g"
      },
      "execution_count": null,
      "outputs": []
    },
    {
      "cell_type": "code",
      "source": [
        "# Prepare data augmentation configuration\n",
        "train_datagen = ImageDataGenerator(rescale = 1.0/255, \n",
        "                                   shear_range = 0.2, \n",
        "                                   zoom_range = 0.2, \n",
        "                                   horizontal_flip = True, \n",
        "                                   validation_split = 0.2)\n",
        "\n",
        "test_datagen = ImageDataGenerator(rescale=1.0/ 255, validation_split = 0.2)"
      ],
      "metadata": {
        "execution": {
          "iopub.status.busy": "2022-07-23T07:08:06.927062Z",
          "iopub.execute_input": "2022-07-23T07:08:06.927418Z",
          "iopub.status.idle": "2022-07-23T07:08:06.933606Z",
          "shell.execute_reply.started": "2022-07-23T07:08:06.927355Z",
          "shell.execute_reply": "2022-07-23T07:08:06.932441Z"
        },
        "trusted": true,
        "id": "NyIV50WoY0-g"
      },
      "execution_count": null,
      "outputs": []
    },
    {
      "cell_type": "code",
      "source": [
        "nb_train_samples = x_train.shape[0]\n",
        "nb_validation_samples = x_test.shape[0]\n",
        "print(nb_train_samples)\n",
        "print(nb_validation_samples)\n",
        "training_generator = train_datagen.flow(x_train, y_train, batch_size=batch_size)\n",
        "validation_generator = test_datagen.flow(x_test, y_test, batch_size=batch_size)"
      ],
      "metadata": {
        "execution": {
          "iopub.status.busy": "2022-07-23T07:13:00.156579Z",
          "iopub.execute_input": "2022-07-23T07:13:00.156884Z",
          "iopub.status.idle": "2022-07-23T07:13:00.380304Z",
          "shell.execute_reply.started": "2022-07-23T07:13:00.156835Z",
          "shell.execute_reply": "2022-07-23T07:13:00.379639Z"
        },
        "trusted": true,
        "id": "MoZd8v-4Y0-g"
      },
      "execution_count": null,
      "outputs": []
    },
    {
      "cell_type": "code",
      "source": [
        "training_generator.next()[]"
      ],
      "metadata": {
        "execution": {
          "iopub.status.busy": "2022-07-23T07:19:24.384919Z",
          "iopub.execute_input": "2022-07-23T07:19:24.385201Z",
          "iopub.status.idle": "2022-07-23T07:19:24.407753Z",
          "shell.execute_reply.started": "2022-07-23T07:19:24.385153Z",
          "shell.execute_reply": "2022-07-23T07:19:24.406725Z"
        },
        "trusted": true,
        "id": "BEeneGpeY0-g"
      },
      "execution_count": null,
      "outputs": []
    },
    {
      "cell_type": "code",
      "source": [
        "b_imgs=training_generator.next()\n",
        "print(len(b_imgs))\n",
        "ran_title=['shear','rotated','rotation','zoom','flip']*40\n",
        "k=0\n",
        "for i in b_imgs:\n",
        "    for j in i:\n",
        "         print(j.shape)\n",
        "         plt.imshow(j.reshape(64,64))\n",
        "         plt.title(ran_title[k])\n",
        "         k+=1\n",
        "         plt.show()"
      ],
      "metadata": {
        "execution": {
          "iopub.status.busy": "2022-07-23T07:34:08.406028Z",
          "iopub.execute_input": "2022-07-23T07:34:08.406333Z",
          "iopub.status.idle": "2022-07-23T07:34:17.659801Z",
          "shell.execute_reply.started": "2022-07-23T07:34:08.406271Z",
          "shell.execute_reply": "2022-07-23T07:34:17.657253Z"
        },
        "trusted": true,
        "id": "6weWCHgPY0-g"
      },
      "execution_count": null,
      "outputs": []
    },
    {
      "cell_type": "markdown",
      "source": [
        "#### Train the model with Data Augmentation\n",
        "\n",
        "Using `fit_generator`, I'll train the model."
      ],
      "metadata": {
        "id": "C2LUdCvEY0-g"
      }
    },
    {
      "cell_type": "code",
      "source": [
        "checkpoint = ModelCheckpoint('saved_models/weights_best_vanilla.hdf5', monitor='val_acc', verbose=1, save_best_only=True, mode='max')\n",
        "history_v3 = model_v2.fit_generator(training_generator,\n",
        "                         steps_per_epoch = nb_train_samples // batch_size,\n",
        "                         epochs = 5, \n",
        "                         callbacks=[es, checkpoint],\n",
        "                         verbose = 1,\n",
        "                         validation_data = validation_generator,\n",
        "                         validation_steps = nb_validation_samples // batch_size)"
      ],
      "metadata": {
        "execution": {
          "iopub.status.busy": "2022-07-23T07:13:03.178192Z",
          "iopub.execute_input": "2022-07-23T07:13:03.178503Z",
          "iopub.status.idle": "2022-07-23T07:14:05.162902Z",
          "shell.execute_reply.started": "2022-07-23T07:13:03.178450Z",
          "shell.execute_reply": "2022-07-23T07:14:05.162065Z"
        },
        "trusted": true,
        "id": "5iEd7OqDY0-h"
      },
      "execution_count": null,
      "outputs": []
    },
    {
      "cell_type": "code",
      "source": [
        "model_v2.load_weights('saved_models/weights_best_vanilla.hdf5')"
      ],
      "metadata": {
        "execution": {
          "iopub.status.busy": "2022-07-23T07:34:25.280291Z",
          "iopub.execute_input": "2022-07-23T07:34:25.280608Z",
          "iopub.status.idle": "2022-07-23T07:34:25.338742Z",
          "shell.execute_reply.started": "2022-07-23T07:34:25.280555Z",
          "shell.execute_reply": "2022-07-23T07:34:25.338030Z"
        },
        "trusted": true,
        "id": "tGXcZW_GY0-h"
      },
      "execution_count": null,
      "outputs": []
    },
    {
      "cell_type": "code",
      "source": [
        "plot_train_history(history_v3)"
      ],
      "metadata": {
        "execution": {
          "iopub.status.busy": "2022-07-23T07:34:25.570580Z",
          "iopub.execute_input": "2022-07-23T07:34:25.570869Z",
          "iopub.status.idle": "2022-07-23T07:34:26.021611Z",
          "shell.execute_reply.started": "2022-07-23T07:34:25.570819Z",
          "shell.execute_reply": "2022-07-23T07:34:26.020715Z"
        },
        "trusted": true,
        "id": "txjUp87qY0-h"
      },
      "execution_count": null,
      "outputs": []
    },
    {
      "cell_type": "code",
      "source": [
        "# Evaluate the performance of the new model\n",
        "score = model_v2.evaluate_generator(validation_generator, nb_validation_samples // batch_size)\n",
        "print(\"Test Score:\", score[0])\n",
        "print(\"Test Accuracy:\", score[1])"
      ],
      "metadata": {
        "execution": {
          "iopub.status.busy": "2022-07-23T07:34:31.585626Z",
          "iopub.execute_input": "2022-07-23T07:34:31.585915Z",
          "iopub.status.idle": "2022-07-23T07:34:32.290946Z",
          "shell.execute_reply.started": "2022-07-23T07:34:31.585865Z",
          "shell.execute_reply": "2022-07-23T07:34:32.289381Z"
        },
        "trusted": true,
        "id": "R8BjdskYY0-h"
      },
      "execution_count": null,
      "outputs": []
    },
    {
      "cell_type": "code",
      "source": [
        "plot_test_class(model_v2, test_files, 101)"
      ],
      "metadata": {
        "execution": {
          "iopub.status.busy": "2022-07-23T07:34:33.806867Z",
          "iopub.execute_input": "2022-07-23T07:34:33.807159Z",
          "iopub.status.idle": "2022-07-23T07:34:33.840328Z",
          "shell.execute_reply.started": "2022-07-23T07:34:33.807112Z",
          "shell.execute_reply": "2022-07-23T07:34:33.839156Z"
        },
        "trusted": true,
        "id": "ZL7K7W_vY0-h"
      },
      "execution_count": null,
      "outputs": []
    },
    {
      "cell_type": "code",
      "source": [
        "plot_test_class(model_v2, test_files, 1) "
      ],
      "metadata": {
        "execution": {
          "iopub.status.busy": "2022-07-23T07:34:48.481375Z",
          "iopub.execute_input": "2022-07-23T07:34:48.481672Z",
          "iopub.status.idle": "2022-07-23T07:34:48.514362Z",
          "shell.execute_reply.started": "2022-07-23T07:34:48.481626Z",
          "shell.execute_reply": "2022-07-23T07:34:48.513366Z"
        },
        "trusted": true,
        "id": "1ppvweWlY0-h"
      },
      "execution_count": null,
      "outputs": []
    },
    {
      "cell_type": "code",
      "source": [
        "plot_test_class(model_v2, test_files, 145) "
      ],
      "metadata": {
        "execution": {
          "iopub.status.busy": "2022-07-23T07:34:49.197826Z",
          "iopub.execute_input": "2022-07-23T07:34:49.198116Z",
          "iopub.status.idle": "2022-07-23T07:34:49.232227Z",
          "shell.execute_reply.started": "2022-07-23T07:34:49.198065Z",
          "shell.execute_reply": "2022-07-23T07:34:49.230605Z"
        },
        "trusted": true,
        "id": "umNaLTO_Y0-h"
      },
      "execution_count": null,
      "outputs": []
    },
    {
      "cell_type": "code",
      "source": [
        "plot_test_class(model_v2, test_files, 143) "
      ],
      "metadata": {
        "execution": {
          "iopub.status.busy": "2022-07-23T07:34:49.914467Z",
          "iopub.execute_input": "2022-07-23T07:34:49.914758Z",
          "iopub.status.idle": "2022-07-23T07:34:49.948166Z",
          "shell.execute_reply.started": "2022-07-23T07:34:49.914710Z",
          "shell.execute_reply": "2022-07-23T07:34:49.946503Z"
        },
        "trusted": true,
        "id": "x7j7Cw7hY0-h"
      },
      "execution_count": null,
      "outputs": []
    }
  ]
}