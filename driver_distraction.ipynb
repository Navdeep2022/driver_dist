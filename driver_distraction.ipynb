{
  "metadata": {
    "kernelspec": {
      "language": "python",
      "display_name": "Python 3",
      "name": "python3"
    },
    "language_info": {
      "pygments_lexer": "ipython3",
      "nbconvert_exporter": "python",
      "version": "3.6.4",
      "file_extension": ".py",
      "codemirror_mode": {
        "name": "ipython",
        "version": 3
      },
      "name": "python",
      "mimetype": "text/x-python"
    },
    "colab": {
      "name": "driver-distraction.ipynb",
      "provenance": [],
      "collapsed_sections": []
    }
  },
  "nbformat_minor": 0,
  "nbformat": 4,
  "cells": [
    {
      "cell_type": "code",
      "source": [
        "import numpy as np # linear algebra\n",
        "import pandas as pd \n",
        "import json\n",
        "from matplotlib import pyplot as plt\n",
        "from skimage import color\n",
        "from skimage.feature import hog\n",
        "from sklearn import svm\n",
        "from sklearn.metrics import classification_report,accuracy_score\n",
        "import tensorflow as tf\n",
        "import matplotlib.pyplot as plt\n",
        "import matplotlib.image as mpimg\n",
        "\n",
        "import keras\n",
        "from tensorflow.keras.utils import to_categorical\n",
        "\n",
        "from subprocess import check_output\n",
        "print(check_output([\"ls\", \"../input\"]).decode(\"utf8\"))"
      ],
      "metadata": {
        "_uuid": "8f2839f25d086af736a60e9eeb907d3b93b6e0e5",
        "_cell_guid": "b1076dfc-b9ad-4769-8c92-a6c4dae69d19",
        "execution": {
          "iopub.status.busy": "2022-07-09T08:15:25.396706Z",
          "iopub.execute_input": "2022-07-09T08:15:25.399886Z",
          "iopub.status.idle": "2022-07-09T08:15:29.454409Z",
          "shell.execute_reply.started": "2022-07-09T08:15:25.399793Z",
          "shell.execute_reply": "2022-07-09T08:15:29.452901Z"
        },
        "trusted": true,
        "id": "IQbHRXJjYmSB"
      },
      "execution_count": null,
      "outputs": []
    },
    {
      "cell_type": "code",
      "source": [
        "ROOT_DIR = '../input/data/'\n",
        "TRAIN_DIR = ROOT_DIR + 'imgs/train/'\n",
        "TEST_DIR = ROOT_DIR + 'imgs/test/'\n",
        "driver_imgs_list = pd.read_csv(ROOT_DIR + \"driver_imgs_list.csv\")\n",
        "random_list = np.random.permutation(len(driver_imgs_list))[:1250]\n",
        "df_copy = driver_imgs_list.iloc[random_list]\n",
        "image_paths = [TRAIN_DIR+row.classname+'/'+row.img \n",
        "                   for (index, row) in df_copy.iterrows()]\n",
        "label_list = [int(row.classname[1]) for (index, row) in df_copy.iterrows()]"
      ],
      "metadata": {
        "execution": {
          "iopub.status.busy": "2022-07-09T08:15:31.95702Z",
          "iopub.execute_input": "2022-07-09T08:15:31.957875Z",
          "iopub.status.idle": "2022-07-09T08:15:32.260187Z",
          "shell.execute_reply.started": "2022-07-09T08:15:31.957827Z",
          "shell.execute_reply": "2022-07-09T08:15:32.25902Z"
        },
        "trusted": true,
        "id": "MSGmJtlUYmSC"
      },
      "execution_count": null,
      "outputs": []
    },
    {
      "cell_type": "code",
      "source": [
        "# One hot vector representation of labels\n",
        "# y_labels_one_hot = to_categorical(label_list, dtype=np.int8)\n",
        "x_img_path = np.array(image_paths)\n",
        "\n",
        "dataset = []\n",
        "for i in range(len(x_img_path)): # len(x_img_path)\n",
        "    img = mpimg.imread(x_img_path[i]) \n",
        "    dataset.append([img,label_list[i]])\n",
        "dataset = np.transpose(dataset)"
      ],
      "metadata": {
        "execution": {
          "iopub.status.busy": "2022-07-09T08:15:35.847581Z",
          "iopub.execute_input": "2022-07-09T08:15:35.847972Z",
          "iopub.status.idle": "2022-07-09T08:15:48.610814Z",
          "shell.execute_reply.started": "2022-07-09T08:15:35.847939Z",
          "shell.execute_reply": "2022-07-09T08:15:48.608927Z"
        },
        "trusted": true,
        "id": "6qdXSa_zYmSD"
      },
      "execution_count": null,
      "outputs": []
    },
    {
      "cell_type": "code",
      "source": [
        "data = np.array(dataset[:][0])\n",
        "IMG_HEIGHT = 240\n",
        "IMG_WIDTH = 320\n",
        "\n",
        "# data = data.reshape(-1,3,IMG_HEIGHT,IMG_WIDTH).transpose([0,2,3,1])\n",
        "plt.imshow(data[0])"
      ],
      "metadata": {
        "execution": {
          "iopub.status.busy": "2022-07-09T08:15:48.613479Z",
          "iopub.execute_input": "2022-07-09T08:15:48.614311Z",
          "iopub.status.idle": "2022-07-09T08:15:48.872617Z",
          "shell.execute_reply.started": "2022-07-09T08:15:48.614267Z",
          "shell.execute_reply": "2022-07-09T08:15:48.87153Z"
        },
        "trusted": true,
        "id": "qRs6C-HDYmSD"
      },
      "execution_count": null,
      "outputs": []
    },
    {
      "cell_type": "code",
      "source": [
        "data = np.array(dataset[:][0])\n",
        "IMG_HEIGHT = 240\n",
        "IMG_WIDTH = 320\n",
        "\n",
        "# data = data.reshape(-1,3,IMG_HEIGHT,IMG_WIDTH).transpose([0,2,3,1])\n",
        "plt.imshow(data[2])"
      ],
      "metadata": {
        "execution": {
          "iopub.status.busy": "2022-07-09T08:15:48.873715Z",
          "iopub.execute_input": "2022-07-09T08:15:48.874082Z",
          "iopub.status.idle": "2022-07-09T08:15:49.121325Z",
          "shell.execute_reply.started": "2022-07-09T08:15:48.874046Z",
          "shell.execute_reply": "2022-07-09T08:15:49.120363Z"
        },
        "trusted": true,
        "id": "AnHEu9FmYmSD"
      },
      "execution_count": null,
      "outputs": []
    },
    {
      "cell_type": "code",
      "source": [
        "data_gray = [ color.rgb2gray(i) for i in data]\n",
        "plt.imshow(data_gray[0])"
      ],
      "metadata": {
        "execution": {
          "iopub.status.busy": "2022-07-09T08:15:49.123541Z",
          "iopub.execute_input": "2022-07-09T08:15:49.124161Z",
          "iopub.status.idle": "2022-07-09T08:15:53.039069Z",
          "shell.execute_reply.started": "2022-07-09T08:15:49.124056Z",
          "shell.execute_reply": "2022-07-09T08:15:53.038108Z"
        },
        "trusted": true,
        "id": "XoVOBG9MYmSE"
      },
      "execution_count": null,
      "outputs": []
    },
    {
      "cell_type": "code",
      "source": [
        "ppc = 16\n",
        "hog_images = []\n",
        "hog_features = []\n",
        "for image in data_gray:\n",
        "    fd,hog_image = hog(image, orientations=8, pixels_per_cell=(ppc,ppc),cells_per_block=(4, 4),block_norm= 'L2',visualize=True)\n",
        "    hog_images.append(hog_image)\n",
        "    hog_features.append(fd)"
      ],
      "metadata": {
        "trusted": true,
        "id": "oVlwIXXHYmSE"
      },
      "execution_count": null,
      "outputs": []
    },
    {
      "cell_type": "code",
      "source": [
        "import pickle"
      ],
      "metadata": {
        "execution": {
          "iopub.status.busy": "2022-07-09T08:16:27.842344Z",
          "iopub.execute_input": "2022-07-09T08:16:27.842732Z",
          "iopub.status.idle": "2022-07-09T08:16:27.847623Z",
          "shell.execute_reply.started": "2022-07-09T08:16:27.842699Z",
          "shell.execute_reply": "2022-07-09T08:16:27.846617Z"
        },
        "trusted": true,
        "id": "IfJlAD6ZYmSE"
      },
      "execution_count": null,
      "outputs": []
    },
    {
      "cell_type": "code",
      "source": [
        ""
      ],
      "metadata": {
        "id": "7UG6dvgGYmSE"
      },
      "execution_count": null,
      "outputs": []
    },
    {
      "cell_type": "markdown",
      "source": [
        "## pickle hog_images"
      ],
      "metadata": {
        "id": "KPovg3rfYmSE"
      }
    },
    {
      "cell_type": "code",
      "source": [
        "with open('./hog_images.pt','wb') as f:\n",
        "    pickle.dump(hog_images,f)"
      ],
      "metadata": {
        "trusted": true,
        "id": "dD9hzgOtYmSF"
      },
      "execution_count": null,
      "outputs": []
    },
    {
      "cell_type": "code",
      "source": [
        "with open('./hog_features.pt','wb') as f:\n",
        "    pickle.dump(hog_features,f)"
      ],
      "metadata": {
        "trusted": true,
        "id": "FySfZ-crYmSF"
      },
      "execution_count": null,
      "outputs": []
    },
    {
      "cell_type": "code",
      "source": [
        "plt.imshow(hog_images[10],cmap=plt.get_cmap('gray'))"
      ],
      "metadata": {
        "trusted": true,
        "id": "AkK1sv0bYmSG"
      },
      "execution_count": null,
      "outputs": []
    },
    {
      "cell_type": "code",
      "source": [
        "with open('./hog_features.pt','rb') as f:\n",
        "    hog_features=pickle.load(f)"
      ],
      "metadata": {
        "execution": {
          "iopub.status.busy": "2022-07-09T08:16:30.385262Z",
          "iopub.execute_input": "2022-07-09T08:16:30.386033Z",
          "iopub.status.idle": "2022-07-09T08:16:36.565239Z",
          "shell.execute_reply.started": "2022-07-09T08:16:30.385992Z",
          "shell.execute_reply": "2022-07-09T08:16:36.563803Z"
        },
        "trusted": true,
        "id": "hR9JNOhRYmSG"
      },
      "execution_count": null,
      "outputs": []
    },
    {
      "cell_type": "code",
      "source": [
        "with open('./hog_images.pt','rb') as f:\n",
        "    hog_images=pickle.load(f)"
      ],
      "metadata": {
        "execution": {
          "iopub.status.busy": "2022-07-09T08:16:36.573579Z",
          "iopub.execute_input": "2022-07-09T08:16:36.574201Z",
          "iopub.status.idle": "2022-07-09T08:16:44.634788Z",
          "shell.execute_reply.started": "2022-07-09T08:16:36.574157Z",
          "shell.execute_reply": "2022-07-09T08:16:44.633701Z"
        },
        "trusted": true,
        "id": "HPlGdoyeYmSG"
      },
      "execution_count": null,
      "outputs": []
    },
    {
      "cell_type": "code",
      "source": [
        "labels = np.array(dataset[:][1])"
      ],
      "metadata": {
        "execution": {
          "iopub.status.busy": "2022-07-09T08:16:47.664502Z",
          "iopub.execute_input": "2022-07-09T08:16:47.665723Z",
          "iopub.status.idle": "2022-07-09T08:16:47.671723Z",
          "shell.execute_reply.started": "2022-07-09T08:16:47.665659Z",
          "shell.execute_reply": "2022-07-09T08:16:47.670463Z"
        },
        "trusted": true,
        "id": "WNdTkr6dYmSG"
      },
      "execution_count": null,
      "outputs": []
    },
    {
      "cell_type": "code",
      "source": [
        "clf = svm.SVC(probability=True)\n",
        "hog_features = np.array(hog_features)\n",
        "data_frame = []\n",
        "for i in range(len(hog_features)):\n",
        "    data_frame.append(np.hstack((hog_features[i],labels[i]))) \n",
        "\n",
        "np.random.shuffle(data_frame)"
      ],
      "metadata": {
        "execution": {
          "iopub.status.busy": "2022-07-09T08:16:55.264416Z",
          "iopub.execute_input": "2022-07-09T08:16:55.26548Z",
          "iopub.status.idle": "2022-07-09T08:16:56.732883Z",
          "shell.execute_reply.started": "2022-07-09T08:16:55.265438Z",
          "shell.execute_reply": "2022-07-09T08:16:56.731837Z"
        },
        "trusted": true,
        "id": "HcXRJDR0YmSG"
      },
      "execution_count": null,
      "outputs": []
    },
    {
      "cell_type": "code",
      "source": [
        "percentage = 80\n",
        "partition = int(len(hog_features)*percentage/100)"
      ],
      "metadata": {
        "execution": {
          "iopub.status.busy": "2022-07-09T08:17:13.367629Z",
          "iopub.execute_input": "2022-07-09T08:17:13.368455Z",
          "iopub.status.idle": "2022-07-09T08:17:13.374446Z",
          "shell.execute_reply.started": "2022-07-09T08:17:13.36841Z",
          "shell.execute_reply": "2022-07-09T08:17:13.373275Z"
        },
        "trusted": true,
        "id": "yGNIUUqjYmSH"
      },
      "execution_count": null,
      "outputs": []
    },
    {
      "cell_type": "code",
      "source": [
        "data_frame = np.array(data_frame)\n",
        "x_train, x_test = data_frame[:partition,:-1],  data_frame[partition:,:-1]\n",
        "y_train, y_test = data_frame[:partition,-1:].ravel() , data_frame[partition:,-1:].ravel()\n",
        "clf.fit(x_train,y_train)"
      ],
      "metadata": {
        "execution": {
          "iopub.status.busy": "2022-07-09T08:17:14.354967Z",
          "iopub.execute_input": "2022-07-09T08:17:14.356426Z",
          "iopub.status.idle": "2022-07-09T08:38:28.470437Z",
          "shell.execute_reply.started": "2022-07-09T08:17:14.356371Z",
          "shell.execute_reply": "2022-07-09T08:38:28.469169Z"
        },
        "trusted": true,
        "id": "VRph5GKJYmSH"
      },
      "execution_count": null,
      "outputs": []
    },
    {
      "cell_type": "code",
      "source": [
        ""
      ],
      "metadata": {
        "id": "zBTag_zQYmSH"
      },
      "execution_count": null,
      "outputs": []
    },
    {
      "cell_type": "code",
      "source": [
        "clf"
      ],
      "metadata": {
        "execution": {
          "iopub.status.busy": "2022-07-09T08:41:45.23971Z",
          "iopub.execute_input": "2022-07-09T08:41:45.240175Z",
          "iopub.status.idle": "2022-07-09T08:41:45.247421Z",
          "shell.execute_reply.started": "2022-07-09T08:41:45.240131Z",
          "shell.execute_reply": "2022-07-09T08:41:45.246305Z"
        },
        "trusted": true,
        "id": "vAKBwj0aYmSH"
      },
      "execution_count": null,
      "outputs": []
    },
    {
      "cell_type": "code",
      "source": [
        "y_pred = clf.predict(x_test)"
      ],
      "metadata": {
        "execution": {
          "iopub.status.busy": "2022-07-09T08:41:52.951053Z",
          "iopub.execute_input": "2022-07-09T08:41:52.951843Z",
          "iopub.status.idle": "2022-07-09T08:43:00.709781Z",
          "shell.execute_reply.started": "2022-07-09T08:41:52.951802Z",
          "shell.execute_reply": "2022-07-09T08:43:00.708147Z"
        },
        "trusted": true,
        "id": "cZIzIHrSYmSH"
      },
      "execution_count": null,
      "outputs": []
    },
    {
      "cell_type": "code",
      "source": [
        "print(\"Accuracy: \"+str(accuracy_score(y_test, y_pred)))\n",
        "print('\\n')\n",
        "print(classification_report(y_test, y_pred))"
      ],
      "metadata": {
        "execution": {
          "iopub.status.busy": "2022-07-09T08:43:09.719403Z",
          "iopub.execute_input": "2022-07-09T08:43:09.719804Z",
          "iopub.status.idle": "2022-07-09T08:43:09.736662Z",
          "shell.execute_reply.started": "2022-07-09T08:43:09.719769Z",
          "shell.execute_reply": "2022-07-09T08:43:09.735278Z"
        },
        "trusted": true,
        "id": "i8xG-K3KYmSH"
      },
      "execution_count": null,
      "outputs": []
    },
    {
      "cell_type": "code",
      "source": [
        "probs=clf.predict_proba(x_test)"
      ],
      "metadata": {
        "execution": {
          "iopub.status.busy": "2022-07-09T08:43:37.218619Z",
          "iopub.execute_input": "2022-07-09T08:43:37.219011Z",
          "iopub.status.idle": "2022-07-09T08:44:43.949059Z",
          "shell.execute_reply.started": "2022-07-09T08:43:37.218978Z",
          "shell.execute_reply": "2022-07-09T08:44:43.947614Z"
        },
        "trusted": true,
        "id": "W58nXfNvYmSI"
      },
      "execution_count": null,
      "outputs": []
    },
    {
      "cell_type": "code",
      "source": [
        ""
      ],
      "metadata": {
        "id": "ICiraH61YmSI"
      },
      "execution_count": null,
      "outputs": []
    }
  ]
}